{
 "cells": [
  {
   "cell_type": "code",
   "execution_count": null,
   "metadata": {},
   "outputs": [],
   "source": [
    "#!pip install https://git.ligo.org/cds/gpstime/-/archive/0.4.4/gpstime-0.4.4.zip"
   ]
  },
  {
   "cell_type": "code",
   "execution_count": 2,
   "metadata": {},
   "outputs": [],
   "source": [
    "import json\n",
    "import os\n",
    "import folium\n",
    "import geopandas as gpd\n",
    "from pyproj import CRS, Transformer\n",
    "import datetime\n",
    "import gpstime\n",
    "import requests"
   ]
  },
  {
   "cell_type": "markdown",
   "metadata": {},
   "source": [
    "# Querying ATL08 Entwine Point Tiles\n",
    "\n",
    "This notebook provides sample code for querying and visualizing the Entwine Point Tiles Store for ATL08 V003.\n",
    "\n",
    "[Entwine Point Tiles (EPT)](https://entwine.io/entwine-point-tile.html) are a new \"cloud-optimized\" storage format for large point cloud data."
   ]
  },
  {
   "cell_type": "markdown",
   "metadata": {},
   "source": [
    "## Variables\n",
    "\n",
    "The data columns in the EPT data correspond to the following ATL08 variables:\n",
    "\n",
    "* Z - `gtx/land_segments/dem_h`\n",
    "* ElevationLow - `gtx/land_segments/terrain/h_te_best_fit`\n",
    "* HeightAboveGround - `gtx/land_segments/canopy/h_canopy`\n",
    "* OriginId - `OriginId` is a numeric reference to an origin file, and references for all `OriginId`s can be found in `ept-sources/list.json`. The origin file is a las file passed as `origin` to the pdal EPT reader.\n",
    "* GpsTime - `GpsTime` is the addition of the value of the HDF field `/ancillary_data/atlas_sdp_gps_epoch` (`1198800018`) and `gtx/land_segments/delta_time`.\n",
    "\n",
    "Read more about those variables in the [ATL08 Data Dictionary](https://nsidc.org/sites/nsidc.org/files/technical-references/ICESat2_ATL08_data_dict_v003.pdf)."
   ]
  },
  {
   "cell_type": "markdown",
   "metadata": {},
   "source": [
    "## Querying ATL08 EPT using the Features API\n",
    "\n",
    "We can use the Features Service for some basic querying of the EPT Store.\n",
    "\n",
    "> OGC API Features provides API building blocks to create, modify and query features on the Web.\n",
    "\n",
    "[Documentation: OGC API - Features](https://www.ogc.org/standards/ogcapi-features)\n",
    "\n",
    "### Query By Bounding Box\n",
    "\n",
    "Note: The features endpoint will be deployed as part of the MAAP API and maap-py python library so this endpoin"
   ]
  },
  {
   "cell_type": "code",
   "execution_count": 3,
   "metadata": {},
   "outputs": [
    {
     "name": "stdout",
     "output_type": "stream",
     "text": [
      "CPU times: user 61.8 ms, sys: 12.8 ms, total: 74.6 ms\n",
      "Wall time: 2.97 s\n"
     ]
    },
    {
     "data": {
      "text/html": [
       "<div>\n",
       "<style scoped>\n",
       "    .dataframe tbody tr th:only-of-type {\n",
       "        vertical-align: middle;\n",
       "    }\n",
       "\n",
       "    .dataframe tbody tr th {\n",
       "        vertical-align: top;\n",
       "    }\n",
       "\n",
       "    .dataframe thead th {\n",
       "        text-align: right;\n",
       "    }\n",
       "</style>\n",
       "<table border=\"1\" class=\"dataframe\">\n",
       "  <thead>\n",
       "    <tr style=\"text-align: right;\">\n",
       "      <th></th>\n",
       "      <th>geometry</th>\n",
       "      <th>X</th>\n",
       "      <th>Y</th>\n",
       "      <th>Z</th>\n",
       "      <th>Intensity</th>\n",
       "      <th>ReturnNumber</th>\n",
       "      <th>NumberOfReturns</th>\n",
       "      <th>ScanDirectionFlag</th>\n",
       "      <th>EdgeOfFlightLine</th>\n",
       "      <th>Classification</th>\n",
       "      <th>...</th>\n",
       "      <th>GpsTime</th>\n",
       "      <th>Red</th>\n",
       "      <th>Green</th>\n",
       "      <th>Blue</th>\n",
       "      <th>ScanChannel</th>\n",
       "      <th>ClassFlags</th>\n",
       "      <th>ElevationLow</th>\n",
       "      <th>HeightAboveGround</th>\n",
       "      <th>OffsetTime</th>\n",
       "      <th>OriginId</th>\n",
       "    </tr>\n",
       "  </thead>\n",
       "  <tbody>\n",
       "    <tr>\n",
       "      <th>0</th>\n",
       "      <td>POINT Z (-75.58000 -8.80000 310.06000)</td>\n",
       "      <td>-75.58</td>\n",
       "      <td>-8.80</td>\n",
       "      <td>310.06</td>\n",
       "      <td>0.0</td>\n",
       "      <td>1.0</td>\n",
       "      <td>1.0</td>\n",
       "      <td>0.0</td>\n",
       "      <td>0.0</td>\n",
       "      <td>0.0</td>\n",
       "      <td>...</td>\n",
       "      <td>1.240313e+09</td>\n",
       "      <td>10.0</td>\n",
       "      <td>95.0</td>\n",
       "      <td>101.0</td>\n",
       "      <td>0.0</td>\n",
       "      <td>0.0</td>\n",
       "      <td>289.127</td>\n",
       "      <td>42.708</td>\n",
       "      <td>41512918.0</td>\n",
       "      <td>29028.0</td>\n",
       "    </tr>\n",
       "    <tr>\n",
       "      <th>1</th>\n",
       "      <td>POINT Z (-74.17000 -11.57000 471.59000)</td>\n",
       "      <td>-74.17</td>\n",
       "      <td>-11.57</td>\n",
       "      <td>471.59</td>\n",
       "      <td>0.0</td>\n",
       "      <td>1.0</td>\n",
       "      <td>1.0</td>\n",
       "      <td>0.0</td>\n",
       "      <td>0.0</td>\n",
       "      <td>0.0</td>\n",
       "      <td>...</td>\n",
       "      <td>1.245357e+09</td>\n",
       "      <td>27.0</td>\n",
       "      <td>107.0</td>\n",
       "      <td>111.0</td>\n",
       "      <td>0.0</td>\n",
       "      <td>0.0</td>\n",
       "      <td>488.210</td>\n",
       "      <td>25.316</td>\n",
       "      <td>46556779.0</td>\n",
       "      <td>37945.0</td>\n",
       "    </tr>\n",
       "    <tr>\n",
       "      <th>2</th>\n",
       "      <td>POINT Z (-73.48000 -10.88000 329.13000)</td>\n",
       "      <td>-73.48</td>\n",
       "      <td>-10.88</td>\n",
       "      <td>329.13</td>\n",
       "      <td>0.0</td>\n",
       "      <td>1.0</td>\n",
       "      <td>1.0</td>\n",
       "      <td>0.0</td>\n",
       "      <td>0.0</td>\n",
       "      <td>0.0</td>\n",
       "      <td>...</td>\n",
       "      <td>1.258205e+09</td>\n",
       "      <td>25.0</td>\n",
       "      <td>106.0</td>\n",
       "      <td>110.0</td>\n",
       "      <td>0.0</td>\n",
       "      <td>0.0</td>\n",
       "      <td>314.425</td>\n",
       "      <td>35.354</td>\n",
       "      <td>59404688.0</td>\n",
       "      <td>58028.0</td>\n",
       "    </tr>\n",
       "    <tr>\n",
       "      <th>3</th>\n",
       "      <td>POINT Z (-74.16000 -10.18000 304.93000)</td>\n",
       "      <td>-74.16</td>\n",
       "      <td>-10.18</td>\n",
       "      <td>304.93</td>\n",
       "      <td>0.0</td>\n",
       "      <td>1.0</td>\n",
       "      <td>1.0</td>\n",
       "      <td>0.0</td>\n",
       "      <td>0.0</td>\n",
       "      <td>0.0</td>\n",
       "      <td>...</td>\n",
       "      <td>1.258550e+09</td>\n",
       "      <td>12.0</td>\n",
       "      <td>96.0</td>\n",
       "      <td>101.0</td>\n",
       "      <td>0.0</td>\n",
       "      <td>0.0</td>\n",
       "      <td>302.224</td>\n",
       "      <td>20.358</td>\n",
       "      <td>59749777.0</td>\n",
       "      <td>58629.0</td>\n",
       "    </tr>\n",
       "    <tr>\n",
       "      <th>4</th>\n",
       "      <td>POINT Z (-73.51000 -9.49000 319.50000)</td>\n",
       "      <td>-73.51</td>\n",
       "      <td>-9.49</td>\n",
       "      <td>319.50</td>\n",
       "      <td>0.0</td>\n",
       "      <td>1.0</td>\n",
       "      <td>1.0</td>\n",
       "      <td>0.0</td>\n",
       "      <td>0.0</td>\n",
       "      <td>0.0</td>\n",
       "      <td>...</td>\n",
       "      <td>1.266051e+09</td>\n",
       "      <td>17.0</td>\n",
       "      <td>100.0</td>\n",
       "      <td>105.0</td>\n",
       "      <td>0.0</td>\n",
       "      <td>0.0</td>\n",
       "      <td>296.021</td>\n",
       "      <td>27.648</td>\n",
       "      <td>67251450.0</td>\n",
       "      <td>71742.0</td>\n",
       "    </tr>\n",
       "  </tbody>\n",
       "</table>\n",
       "<p>5 rows × 23 columns</p>\n",
       "</div>"
      ],
      "text/plain": [
       "                                  geometry      X      Y       Z  Intensity  \\\n",
       "0   POINT Z (-75.58000 -8.80000 310.06000) -75.58  -8.80  310.06        0.0   \n",
       "1  POINT Z (-74.17000 -11.57000 471.59000) -74.17 -11.57  471.59        0.0   \n",
       "2  POINT Z (-73.48000 -10.88000 329.13000) -73.48 -10.88  329.13        0.0   \n",
       "3  POINT Z (-74.16000 -10.18000 304.93000) -74.16 -10.18  304.93        0.0   \n",
       "4   POINT Z (-73.51000 -9.49000 319.50000) -73.51  -9.49  319.50        0.0   \n",
       "\n",
       "   ReturnNumber  NumberOfReturns  ScanDirectionFlag  EdgeOfFlightLine  \\\n",
       "0           1.0              1.0                0.0               0.0   \n",
       "1           1.0              1.0                0.0               0.0   \n",
       "2           1.0              1.0                0.0               0.0   \n",
       "3           1.0              1.0                0.0               0.0   \n",
       "4           1.0              1.0                0.0               0.0   \n",
       "\n",
       "   Classification  ...       GpsTime   Red  Green   Blue  ScanChannel  \\\n",
       "0             0.0  ...  1.240313e+09  10.0   95.0  101.0          0.0   \n",
       "1             0.0  ...  1.245357e+09  27.0  107.0  111.0          0.0   \n",
       "2             0.0  ...  1.258205e+09  25.0  106.0  110.0          0.0   \n",
       "3             0.0  ...  1.258550e+09  12.0   96.0  101.0          0.0   \n",
       "4             0.0  ...  1.266051e+09  17.0  100.0  105.0          0.0   \n",
       "\n",
       "   ClassFlags  ElevationLow  HeightAboveGround  OffsetTime  OriginId  \n",
       "0         0.0       289.127             42.708  41512918.0   29028.0  \n",
       "1         0.0       488.210             25.316  46556779.0   37945.0  \n",
       "2         0.0       314.425             35.354  59404688.0   58028.0  \n",
       "3         0.0       302.224             20.358  59749777.0   58629.0  \n",
       "4         0.0       296.021             27.648  67251450.0   71742.0  \n",
       "\n",
       "[5 rows x 23 columns]"
      ]
     },
     "execution_count": 3,
     "metadata": {},
     "output_type": "execute_result"
    }
   ],
   "source": [
    "%%time\n",
    "# Format a request to the API\n",
    "api_url = \"https://obnrh8ozt0.execute-api.us-east-2.amazonaws.com/collections/Global/items\"\n",
    "\n",
    "# Make a request for a bounding box over Peru\n",
    "bbox=\"-77,-26,300,-73,0,500\"\n",
    "limit = 1000\n",
    "payload = {\n",
    "    \"f\": \"json\",\n",
    "    \"limit\": limit,\n",
    "    \"bbox\": bbox\n",
    "}\n",
    "\n",
    "r = requests.get(api_url, params = payload)\n",
    "# Get the results directly into a Geo Data Frame (saving to file not required but recommended)\n",
    "api_geojson = r.json()\n",
    "api_geojson.keys()\n",
    "adf = gpd.GeoDataFrame.from_features(api_geojson[\"features\"], crs='epsg:4326')\n",
    "adf.shape\n",
    "adf.head()"
   ]
  },
  {
   "cell_type": "code",
   "execution_count": null,
   "metadata": {},
   "outputs": [],
   "source": [
    "m = folium.Map(\n",
    "    location=[adf.centroid[0].y, adf.centroid[0].x],\n",
    "    zoom_start=10,\n",
    "    tiles='Stamen Terrain'\n",
    ")\n",
    "\n",
    "\n",
    "folium.GeoJson(\n",
    "    adf,\n",
    "    name = \"geojson\"\n",
    ").add_to(m)\n",
    "\n",
    "m"
   ]
  },
  {
   "cell_type": "markdown",
   "metadata": {},
   "source": [
    "### Query by Granule Id\n",
    "\n",
    "The UWG requested being able to query by granule id."
   ]
  },
  {
   "cell_type": "code",
   "execution_count": null,
   "metadata": {},
   "outputs": [],
   "source": [
    "granule_id = 'ATL08_20181014035224_02370107_003_01'\n",
    "payload = {\n",
    "    \"f\": \"json\",\n",
    "    \"origin\": granule_id,\n",
    "}\n",
    "\n",
    "r = requests.get(api_url, params = payload)\n",
    "api_geojson = r.json()\n",
    "api_geojson.keys()\n",
    "adf = gpd.GeoDataFrame.from_features(api_geojson[\"features\"], crs='epsg:4326')\n",
    "adf.head()"
   ]
  },
  {
   "cell_type": "markdown",
   "metadata": {},
   "source": [
    "## PDAL Pipelines\n",
    "\n",
    "PDAL pipelines can be used for a large set of data querying functionality, such as filtering data variables to be within a given range. Read more about different PDAL pipeline options here: https://pdal.io/pipeline.html.\n",
    "\n",
    "### Requirements\n",
    "\n",
    "To use PDAL, make sure to build a workspace using the \"MAAP with PDAL\" stack.\n",
    "\n",
    "![Select MAAP with PDAL in Che](select-maap-with-pdal.png)"
   ]
  },
  {
   "cell_type": "code",
   "execution_count": null,
   "metadata": {},
   "outputs": [],
   "source": [
    "## Define the global EPT source for our data queries\n",
    "ept_store = \"s3://cumulus-map-internal/file-staging/nasa-map/ATL08_ARD-beta___001/global/ept/ept.json\"\n",
    "\n",
    "## Define a function for running a pdal pipeline and returning the filename as output\n",
    "def run_pipeline(pipeline_def, output_file):\n",
    "    pipeline_def[-1][\"filename\"] = output_file\n",
    "    pipeline_json =  json.dumps(pipeline_def)\n",
    "    pipeline = pdal.Pipeline(pipeline_json)\n",
    "\n",
    "    # remove the output file before building a new one\n",
    "    if os.path.exists(output_file):\n",
    "        os.remove(output_file)\n",
    "\n",
    "    count = pipeline.execute()\n",
    "    data = open(output_file, 'r').read()\n",
    "    data = data.replace(\"[,{\", \"[{\").replace(\"}{\", \"},{\")\n",
    "    open(output_file, 'w').write(data)\n",
    "    return output_file"
   ]
  },
  {
   "cell_type": "markdown",
   "metadata": {},
   "source": [
    "## Query by Granule using OriginId\n",
    "\n",
    "To query for data from a particular granule, we can use the filename prefix to query the EPT store by `origin`."
   ]
  },
  {
   "cell_type": "code",
   "execution_count": null,
   "metadata": {},
   "outputs": [],
   "source": [
    "granule_id = \"ATL08_20181026111023_04250106_003_01\"\n",
    "output_geojson = f\"{granule_id}-subset.geojson\"\n",
    "\n",
    "pipeline_def = [\n",
    "    {\n",
    "        \"type\": \"readers.ept\",\n",
    "        \"filename\": ept_store,\n",
    "        \"origin\": f\"{granule_id}.las\"\n",
    "    },\n",
    "    {\n",
    "        \"type\": \"filters.reprojection\",\n",
    "        \"out_srs\":\"EPSG:4326\"\n",
    "    },\n",
    "    {\n",
    "        \"type\" : \"writers.text\",\n",
    "        \"format\": \"geojson\",\n",
    "        \"write_header\": True\n",
    "    }\n",
    "]\n",
    "\n",
    "run_pipeline(pipeline_def, output_geojson)"
   ]
  },
  {
   "cell_type": "markdown",
   "metadata": {},
   "source": [
    "## Query by Bounding Box\n",
    "\n",
    "To query for data for a bounding box, we first have to convert coordinates to the CRS of the EPT store (EPSG:3857)."
   ]
  },
  {
   "cell_type": "code",
   "execution_count": null,
   "metadata": {},
   "outputs": [],
   "source": [
    "xmin, xmax = 10.1299,10.13\n",
    "ymin, ymax = -0.0001,0\n",
    "transformer = Transformer.from_crs(\"EPSG:4326\", \"EPSG:3857\", always_xy=True)\n",
    "xmin, ymax = transformer.transform(xmin, ymax)\n",
    "xmax, ymin = transformer.transform(xmax, ymin)\n",
    "pdal_aoi_bounds = f\"([{xmin}, {xmax}], [{ymin}, {ymax}])\"\n",
    "pdal_aoi_bounds"
   ]
  },
  {
   "cell_type": "code",
   "execution_count": null,
   "metadata": {},
   "outputs": [],
   "source": [
    "pipeline_def = [\n",
    "    {\n",
    "        \"type\": \"readers.ept\",\n",
    "        \"filename\": ept_store\n",
    "    },\n",
    "    {\n",
    "        \"type\":\"filters.crop\",\n",
    "        \"bounds\": pdal_aoi_bounds\n",
    "    },\n",
    "    {\n",
    "        \"type\" : \"writers.text\",\n",
    "        \"format\": \"geojson\",\n",
    "        \"write_header\": True\n",
    "    }\n",
    "]\n",
    "\n",
    "run_pipeline(pipeline_def, \"spatial-subset.geojson\")"
   ]
  },
  {
   "cell_type": "markdown",
   "metadata": {},
   "source": [
    "## Convert GpsTime to Datetime\n",
    "\n",
    "As described above, the data contains the field `GpsTime`:\n",
    "\n",
    ">GPS Time (GPST) is a continuous time scale (no leap seconds) defined by the GPS Control segment on the basis of a set of atomic clocks at the Monitor Stations and onboard the satellites. It starts at 0h UTC (midnight) of January 5th to 6th 1980.\n",
    "\n",
    "[Source gssc.esa.int](https://gssc.esa.int/navipedia/index.php/Time_References_in_GNSS#:~:text=GPS%20Time%20(GPST)%20is%20a,5th%20to%206th%201980%20(6.&text=0).)"
   ]
  },
  {
   "cell_type": "code",
   "execution_count": null,
   "metadata": {},
   "outputs": [],
   "source": [
    "timestamp = gpstime.gps2unix(1224587557.969)\n",
    "datetime.datetime.fromtimestamp(timestamp)"
   ]
  },
  {
   "cell_type": "markdown",
   "metadata": {},
   "source": [
    "## Working with the results\n",
    "\n",
    "Below are a number of examples of how to work with the geojson output from the example pipelines above."
   ]
  },
  {
   "cell_type": "markdown",
   "metadata": {},
   "source": [
    "### Reading into a data frame"
   ]
  },
  {
   "cell_type": "code",
   "execution_count": null,
   "metadata": {},
   "outputs": [],
   "source": [
    "df = gpd.read_file(output_geojson)\n",
    "gdf = gpd.GeoDataFrame(df, crs='epsg:4326')\n",
    "gdf"
   ]
  },
  {
   "cell_type": "markdown",
   "metadata": {},
   "source": [
    "## Plotting\n",
    "\n",
    "Finally, we can plot the data values"
   ]
  },
  {
   "cell_type": "code",
   "execution_count": null,
   "metadata": {},
   "outputs": [],
   "source": [
    "%matplotlib inline\n",
    "import matplotlib.pyplot as plt\n",
    "plt.style.use('seaborn-whitegrid')\n",
    "\n",
    "fig = plt.figure()\n",
    "ax = plt.axes()\n",
    "x = range(gdf.shape[0])\n",
    "\n",
    "plt.plot(x, gdf.HeightAboveGround.astype(float), color='blue')\n",
    "\n",
    "fig = plt.figure()\n",
    "ax = plt.axes()\n",
    "#plt.plot(x, gdf.ElevationLow.astype(float), color='red')\n",
    "plt.plot(x, gdf.Z.astype(float), color='green')"
   ]
  }
 ],
 "metadata": {
  "kernelspec": {
   "display_name": "Python 3",
   "language": "python",
   "name": "python3"
  },
  "language_info": {
   "codemirror_mode": {
    "name": "ipython",
    "version": 3
   },
   "file_extension": ".py",
   "mimetype": "text/x-python",
   "name": "python",
   "nbconvert_exporter": "python",
   "pygments_lexer": "ipython3",
   "version": "3.7.8"
  }
 },
 "nbformat": 4,
 "nbformat_minor": 4
}
