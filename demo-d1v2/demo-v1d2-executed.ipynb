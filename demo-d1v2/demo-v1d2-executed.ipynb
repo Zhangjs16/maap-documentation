{
 "cells": [
  {
   "cell_type": "code",
   "execution_count": 1,
   "metadata": {},
   "outputs": [],
   "source": [
    "# %pip install -q rasterio\n",
    "# %pip install -q rio-cogeo\n",
    "# %pip install -q owslib\n",
    "# %pip install -q rioxarray\n",
    "# %pip install -q geopandas\n",
    "# %pip install -q folium"
   ]
  },
  {
   "cell_type": "code",
   "execution_count": 2,
   "metadata": {},
   "outputs": [],
   "source": [
    "from maap.maap import MAAP\n",
    "maap = MAAP()\n",
    "import json\n",
    "from IPython.display import display, Image\n",
    "import ipycmc\n",
    "w = ipycmc.MapCMC()\n",
    "from pprint import pprint\n",
    "import rasterio as rio\n",
    "from rasterio.plot import show\n",
    "import requests\n",
    "import os\n",
    "from owslib.wcs import WebCoverageService\n",
    "import rioxarray\n",
    "import warnings\n",
    "warnings.filterwarnings('ignore')\n",
    "import geopandas as gpd\n",
    "import folium"
   ]
  },
  {
   "cell_type": "markdown",
   "metadata": {},
   "source": [
    "# MAAP Version 1 Delivery 2 (V1D2) Demo Notebook\n",
    "\n",
    "## Responding to the Usability Study and User Working Group Needs\n",
    "\n",
    "### What were the the recommendations from the MAAP Usability Study?\n",
    "\n",
    "* Create additional documentation\n",
    "* Allow users to visualize data on a map\n",
    "* Help users deal with large amounts of data\n",
    "\n",
    "### How did the data system respond? (Demo Outline)\n",
    "\n",
    "For V1D2, the MAAP data system made updates to address the recommendations of the usability study. This notebook demonstrates those updates. In it we:\n",
    "\n",
    "* Demonstrate using the **[documenation site](https://maap-project.readthedocs.io/en/latest/)** to:\n",
    "  - query by additional attributes\n",
    "  - visualize data on a map\n",
    "* Demonstrate users can handle **large amounts of data** using cloud-optimized formats and OGC standards with:\n",
    "    * NASA Shuttle Radar Topography Mission Global 1 arc second V003 (COGs)\n",
    "      - **Visualization** - WMTS with the Dynamic Tiler API + MAAP API\n",
    "    * AfriSAR UAVSAR Coregistered SLCs Generated Using NISAR Tools (COGs)\n",
    "      - **Query** - WCS via EDAV\n",
    "    * ATLAS/ICESat-2 L3A Land and Vegetation Height V003 (EPT)\n",
    "      - **Visualization** - 3D Tiles \n",
    "      - **Query** - Features\n",
    " "
   ]
  },
  {
   "cell_type": "markdown",
   "metadata": {},
   "source": [
    "# Using Documentation\n",
    "\n",
    "We can use [Searching by Additional Attributes](https://maap-project.readthedocs.io/en/latest/search/granules.html?highlight=additional#Searching-by-Additional-Attributes) documentation to search by the requested additional attributes `direction` and `polarization`."
   ]
  },
  {
   "cell_type": "code",
   "execution_count": 3,
   "metadata": {},
   "outputs": [
    {
     "name": "stdout",
     "output_type": "stream",
     "text": [
      "'Got 100 results'\n"
     ]
    }
   ],
   "source": [
    "results = maap.searchGranule(orbit_dir = \"ASCENDING\", limit=100)\n",
    "pprint(f'Got {len(results)} results')\n",
    "# print(json.dumps(results[0], indent=2))"
   ]
  },
  {
   "cell_type": "code",
   "execution_count": 4,
   "metadata": {},
   "outputs": [
    {
     "name": "stdout",
     "output_type": "stream",
     "text": [
      "'Got 100 results'\n"
     ]
    }
   ],
   "source": [
    "results = maap.searchGranule(polarization = \"HH\", limit=100)\n",
    "pprint(f'Got {len(results)} results')\n",
    "# print(json.dumps(results[0], indent=2))"
   ]
  },
  {
   "cell_type": "markdown",
   "metadata": {},
   "source": [
    "We can use [Visualizing Web Map Tile Service (WMTS) Layers\n",
    "](https://maap-project.readthedocs.io/en/latest/visualization/using_pycmc.html) documentation to visualize data on a map."
   ]
  },
  {
   "cell_type": "code",
   "execution_count": 5,
   "metadata": {},
   "outputs": [
    {
     "data": {
      "application/vnd.jupyter.widget-view+json": {
       "model_id": "dda4493bfb8446698f7624b525a6788f",
       "version_major": 2,
       "version_minor": 0
      },
      "text/plain": [
       "MapCMC()"
      ]
     },
     "metadata": {},
     "output_type": "display_data"
    }
   ],
   "source": [
    "# Import the ipycmc module\n",
    "import ipycmc\n",
    "# utilize the CMC widget\n",
    "w = ipycmc.MapCMC()\n",
    "w"
   ]
  },
  {
   "cell_type": "code",
   "execution_count": 6,
   "metadata": {},
   "outputs": [],
   "source": [
    "w.load_layer_config(\"https://api.maap-project.org/api/wmts/GetCapabilities\", \"wmts/xml\")"
   ]
  },
  {
   "cell_type": "markdown",
   "metadata": {},
   "source": [
    "# Handling Large Amounts of Data\n",
    "\n",
    "## SRTM Cloud-Optimized GeoTiffs (COGs)\n",
    "\n",
    "SRTM (Shuttle Radar Topography Mission) obtained elevation data on a near-global scale using radar interferometry. The SRTMGL1 contains elevation data in 1° X 1° tiles at 1 arc second (about 30 meters) resolution.\n",
    "\n",
    "During this delivery, SRTMGL1 data product was made available in **Cloud-Optimized GeoTiff (COG)** format so that it can be dynammically visualizaed on a MAAP alongside the previoously published COGs of UAVSAR and LVIS."
   ]
  },
  {
   "cell_type": "markdown",
   "metadata": {},
   "source": [
    "## SRTM Visualization"
   ]
  },
  {
   "cell_type": "code",
   "execution_count": 7,
   "metadata": {},
   "outputs": [],
   "source": [
    "results = maap.searchGranule(short_name=\"SRTMGL1_COD\", bounding_box=\"7.27,-5.24,17.00,3.48\")\n",
    "for r in results:\n",
    "    granule_ur = r['Granule']['GranuleUR']\n",
    "    w.load_layer_config(f\"https://api.maap-project.org/api/wmts/GetCapabilities?granule_ur={granule_ur}\", \"wmts/xml\")"
   ]
  },
  {
   "cell_type": "markdown",
   "metadata": {},
   "source": [
    "## Querying UAVSAR AfriSAR using WCS\n",
    "\n",
    "Let's send a request to the EDAV WCS and extract a subset of the data in GeoTiff format and save it to our workspace."
   ]
  },
  {
   "cell_type": "code",
   "execution_count": 8,
   "metadata": {},
   "outputs": [
    {
     "data": {
      "text/plain": [
       "'This dataset contains multi-baseline Polarimetric Interferometric Synthetic Aperture Radar SLC (single-look-complex) data collected from multiple repeat-pass flights over Gabonese forests using the Uninhabited Aerial Vehicle Synthetic Aperture Radar (UAVSAR) instrument in February-March 2016. Supplementary data products based on various intermediate parameters of the UAVSAR data are provided and include viewing and terrain geometry.'"
      ]
     },
     "execution_count": 8,
     "metadata": {},
     "output_type": "execute_result"
    }
   ],
   "source": [
    "c = maap.searchCollection(short_name=\"AfriSAR_UAVSAR_Coreg_SLC\")[0]\n",
    "c['Collection']['Description']"
   ]
  },
  {
   "cell_type": "code",
   "execution_count": null,
   "metadata": {},
   "outputs": [],
   "source": [
    "# Configure the WCS source\n",
    "EDAV_WCS_Base = \"https://edav-wcs.adamplatform.eu/wcs\"\n",
    "wcs = WebCoverageService(f'{EDAV_WCS_Base}?service=WCS', version='2.0.0')\n",
    "\n",
    "# Request the data from WCS\n",
    "response = wcs.getCoverage(\n",
    "    identifier=['uavsar_AfriSAR_v1_SLC'],\n",
    "    format='image/tiff',\n",
    "    filter='false',\n",
    "    scale=1,\n",
    "    subsets=[('Long',11.6,11.7),('Lat',-0.2,-0.1)]\n",
    ")\n",
    "\n",
    "# Save the results to file as a tif\n",
    "results = \"EDAV_example.tif\"\n",
    "with open(results, 'wb') as file:\n",
    "    file.write(response.read())"
   ]
  },
  {
   "cell_type": "markdown",
   "metadata": {},
   "source": [
    "Do a quick check that the data is valid, and contains spatial metadata. For fun we can check if it's a Cloud Optimized Geotiff."
   ]
  },
  {
   "cell_type": "code",
   "execution_count": null,
   "metadata": {},
   "outputs": [],
   "source": [
    "!gdalinfo {results}\n",
    "!rio cogeo validate {results}"
   ]
  },
  {
   "cell_type": "markdown",
   "metadata": {},
   "source": [
    "### Read the data and do some quick visual exploration."
   ]
  },
  {
   "cell_type": "code",
   "execution_count": null,
   "metadata": {},
   "outputs": [],
   "source": [
    "edav_x = rioxarray.open_rasterio(results)\n",
    "edav_x.plot(cmap=\"gist_earth\", figsize=(10, 8)).set_clim(0, 0.4)"
   ]
  },
  {
   "cell_type": "markdown",
   "metadata": {},
   "source": [
    "# Handling Large Amounts of (Point Cloud) Data (Continued)\n",
    "\n",
    "## ATL08 v003 Entwine Point Tiles (EPT)\n",
    "\n",
    "During V1D2, the data team made the ATL08 IceSAT-2 Dataset available in [Entwine Point Tile (EPT)](https://entwine.io/entwine-point-tile.html) format.\n",
    "\n",
    "### What are Entwine Point Tiles?\n",
    "\n",
    "Entwine Point Tiles are a cloud-optimized octree data format for storing and visualizing massive point clouds efficiently. This format is gaining a lot of momentum and interest with an active development community.\n"
   ]
  },
  {
   "cell_type": "markdown",
   "metadata": {},
   "source": [
    "### Visualizing with potree\n",
    "\n",
    "Potree is a tool for visualizing EPT stores directly.\n",
    "\n",
    "https://potree.entwine.io/data/view.html?r=%22https://cumulus-map-internal.s3.amazonaws.com/file-staging/nasa-map/ATL08_ARD-beta___001/global/ept%22"
   ]
  },
  {
   "cell_type": "code",
   "execution_count": null,
   "metadata": {},
   "outputs": [],
   "source": [
    "img_src = \"images/Oct-28-2020 16-41-44.gif\"\n",
    "Image(url = img_src)"
   ]
  },
  {
   "cell_type": "markdown",
   "metadata": {},
   "source": [
    "### Visualizing with the 3D Tiles Service (OGC)\n",
    "\n",
    "Cesium is a 3D tool which can be used to visualize point clouds alongside 2D data using a 3D Tiles Service.\n",
    "\n",
    "* [3D Tiles API Endpoint](https://api.maap.xyz/api/3d-tiles/ATL08_ARD-beta___001/global/ept/ept-tileset/tileset.json)\n",
    "* [Demo using Cesium](http://cesium.entwine.io/?url=https://api.maap.xyz/api/3d-tiles/ATL08_ARD-beta___001/global/ept/ept-tileset/tileset.json)"
   ]
  },
  {
   "cell_type": "code",
   "execution_count": null,
   "metadata": {},
   "outputs": [],
   "source": [
    "img_src = \"images/Oct-28-2020 16-53-01.gif\"\n",
    "Image(url = img_src)"
   ]
  },
  {
   "cell_type": "markdown",
   "metadata": {},
   "source": [
    "### Visualizing with ipyCMC"
   ]
  },
  {
   "cell_type": "code",
   "execution_count": null,
   "metadata": {},
   "outputs": [],
   "source": [
    "w.load_layer_config(\"https://cmr.maap-project.org/search/concepts/G1200354094-NASA_MAAP.json\", \"json\", {\"handleAs\": \"vector-3d-tile\"})"
   ]
  },
  {
   "cell_type": "markdown",
   "metadata": {},
   "source": [
    "## Querying ATL08 EPT using the Features Service\n",
    "\n",
    "We can use the features service for some basic querying of the EPT Store.\n",
    "\n",
    "### Query By Bounding Box"
   ]
  },
  {
   "cell_type": "code",
   "execution_count": null,
   "metadata": {},
   "outputs": [],
   "source": [
    "# Format a request to the API\n",
    "api_url = \"https://obnrh8ozt0.execute-api.us-east-2.amazonaws.com/collections/Global/items\"\n",
    "\n",
    "# bbox should be defined as xmin, xmax, (min value z), ymin, ymax, (max value z)\n",
    "# Make a request for a bounding box over Peru\n",
    "bbox=\"-77,-26,300,-73,0,500\"\n",
    "\n",
    "payload = {\n",
    "    \"f\": \"json\",\n",
    "    \"limit\": 100,\n",
    "    \"bbox\": bbox,\n",
    "}\n",
    "\n",
    "r = requests.get(api_url, params = payload)"
   ]
  },
  {
   "cell_type": "code",
   "execution_count": null,
   "metadata": {},
   "outputs": [],
   "source": [
    "# Get the results directly into a Geo Data Frame (saving to file not required but recommended)\n",
    "api_geojson = r.json()\n",
    "api_geojson.keys()\n",
    "adf = gpd.GeoDataFrame.from_features(api_geojson[\"features\"], crs='epsg:4326')\n",
    "adf.head()"
   ]
  },
  {
   "cell_type": "code",
   "execution_count": null,
   "metadata": {},
   "outputs": [],
   "source": [
    "m = folium.Map(\n",
    "    location=[adf.centroid[0].y, adf.centroid[0].x],\n",
    "    zoom_start=10,\n",
    "    tiles='Stamen Terrain'\n",
    ")\n",
    "\n",
    "\n",
    "folium.GeoJson(\n",
    "    adf,\n",
    "    name = \"geojson\"\n",
    ").add_to(m)\n",
    "\n",
    "m"
   ]
  },
  {
   "cell_type": "markdown",
   "metadata": {},
   "source": [
    "### Query by Granule Id"
   ]
  },
  {
   "cell_type": "code",
   "execution_count": null,
   "metadata": {},
   "outputs": [],
   "source": [
    "granule_id = 'ATL08_20181014035224_02370107_003_01'\n",
    "payload = {\n",
    "    \"f\": \"json\",\n",
    "    \"origin\": granule_id,\n",
    "}\n",
    "\n",
    "r = requests.get(api_url, params = payload)\n",
    "api_geojson = r.json()\n",
    "api_geojson.keys()\n",
    "adf = gpd.GeoDataFrame.from_features(api_geojson[\"features\"], crs='epsg:4326')\n",
    "adf.head()"
   ]
  },
  {
   "cell_type": "markdown",
   "metadata": {},
   "source": [
    "## More query options with pdal\n",
    "\n",
    "The [documentation](https://maap-project.readthedocs.io/en/latest/query/testing-ept-stores.html#PDAL-Pipelines) provides additional options for how to query with PDAL (Point Cloud Data Abstraction Library)."
   ]
  },
  {
   "cell_type": "markdown",
   "metadata": {},
   "source": [
    "# Thank You!\n",
    "\n",
    "**Big thanks to** Aaron Kaulfus, Alex Mandel, Chuck Daniels, David Bitner, Hai, Kaylin Bugbee, Slesa, Sam Ayers and Seth Vincent with whom none of this would be possible."
   ]
  }
 ],
 "metadata": {
  "kernelspec": {
   "display_name": "Python 3",
   "language": "python",
   "name": "python3"
  },
  "language_info": {
   "codemirror_mode": {
    "name": "ipython",
    "version": 3
   },
   "file_extension": ".py",
   "mimetype": "text/x-python",
   "name": "python",
   "nbconvert_exporter": "python",
   "pygments_lexer": "ipython3",
   "version": "3.7.8"
  }
 },
 "nbformat": 4,
 "nbformat_minor": 4
}
