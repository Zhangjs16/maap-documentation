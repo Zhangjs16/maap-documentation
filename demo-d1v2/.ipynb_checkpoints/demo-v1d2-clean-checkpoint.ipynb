{
 "cells": [
  {
   "cell_type": "code",
   "execution_count": null,
   "metadata": {},
   "outputs": [],
   "source": [
    "# %pip install -q rasterio\n",
    "# %pip install -q rio-cogeo\n",
    "# %pip install -q owslib\n",
    "# %pip install -q rioxarray\n",
    "# %pip install -q geopandas\n",
    "# %pip install -q folium"
   ]
  },
  {
   "cell_type": "code",
   "execution_count": 1,
   "metadata": {},
   "outputs": [],
   "source": [
    "from maap.maap import MAAP\n",
    "maap = MAAP()\n",
    "import json\n",
    "from IPython.display import display, Image\n",
    "import ipycmc\n",
    "w = ipycmc.MapCMC()\n",
    "from pprint import pprint\n",
    "import rasterio as rio\n",
    "from rasterio.plot import show\n",
    "import requests\n",
    "import os\n",
    "from owslib.wcs import WebCoverageService\n",
    "import rioxarray\n",
    "import warnings\n",
    "warnings.filterwarnings('ignore')\n",
    "import geopandas as gpd\n",
    "import folium"
   ]
  },
  {
   "cell_type": "markdown",
   "metadata": {},
   "source": [
    "# MAAP Version 1 Delivery 2 (V1D2) Data System Demo Notebook\n",
    "\n",
    "## Responding to User Working Group Requests from working sessions and the usability study\n",
    "\n",
    "### What were the recommendations from the MAAP Usability Study?\n",
    "\n",
    "* Create more documentation and examples\n",
    "* Enable visualization data on a map\n",
    "* Ways to handler large amounts of data\n",
    "\n",
    "### How did the data system respond? (Demo Outline)\n",
    "\n",
    "For V1D2, the MAAP data system made updates to address the recommendations of the usability study. This notebook demonstrates those updates. In it we:\n",
    "\n",
    "* Demonstrate using the **[documenation site](https://maap-project.readthedocs.io/en/latest/)** to:\n",
    "  - query by additional attributes\n",
    "  - visualize data on a map\n",
    "* Demonstrate users can handle **large amounts of data** using cloud-optimized formats and OGC standards with:\n",
    "    * NASA Shuttle Radar Topography Mission Global 1 arc second V003 (COGs)\n",
    "      - **Visualization** - WMTS with the Dynamic Tiler API + MAAP API\n",
    "    * AfriSAR UAVSAR Coregistered SLCs Generated Using NISAR Tools (COGs)\n",
    "      - **Query** - WCS via EDAV\n",
    "    * ATLAS/ICESat-2 L3A Land and Vegetation Height V003 (EPT)\n",
    "      - **Visualization** - 3D Tiles \n",
    "      - **Query** - Features\n",
    " "
   ]
  },
  {
   "cell_type": "markdown",
   "metadata": {},
   "source": [
    "# Using Documentation\n",
    "\n",
    "We can use [Searching by Additional Attributes](https://maap-project.readthedocs.io/en/latest/search/granules.html?highlight=additional#Searching-by-Additional-Attributes) documentation to search by the requested additional attributes `direction` and `polarization`."
   ]
  },
  {
   "cell_type": "code",
   "execution_count": null,
   "metadata": {},
   "outputs": [],
   "source": [
    "results = maap.searchGranule(orbit_dir = \"ASCENDING\", limit=100)\n",
    "pprint(f'Got {len(results)} results')\n",
    "print(json.dumps(results[0], indent=2))"
   ]
  },
  {
   "cell_type": "code",
   "execution_count": null,
   "metadata": {},
   "outputs": [],
   "source": [
    "results = maap.searchGranule(polarization = \"HH\", limit=100)\n",
    "pprint(f'Got {len(results)} results')\n",
    "print(json.dumps(results[0], indent=2))"
   ]
  },
  {
   "cell_type": "markdown",
   "metadata": {},
   "source": [
    "We can use [Visualizing Web Map Tile Service (WMTS) Layers\n",
    "](https://maap-project.readthedocs.io/en/latest/visualization/using_pycmc.html) documentation to visualize data on a map."
   ]
  },
  {
   "cell_type": "code",
   "execution_count": null,
   "metadata": {},
   "outputs": [],
   "source": [
    "# Import the ipycmc module\n",
    "import ipycmc\n",
    "# utilize the CMC widget\n",
    "w = ipycmc.MapCMC()\n",
    "w"
   ]
  },
  {
   "cell_type": "code",
   "execution_count": null,
   "metadata": {},
   "outputs": [],
   "source": [
    "w.load_layer_config(\"https://api.maap-project.org/api/wmts/GetCapabilities\", \"wmts/xml\")"
   ]
  },
  {
   "cell_type": "markdown",
   "metadata": {},
   "source": [
    "# Handling Large Amounts of Data\n",
    "\n",
    "## SRTM Cloud-Optimized GeoTiffs (COGs)\n",
    "\n",
    "SRTM (Shuttle Radar Topography Mission) obtained elevation data on a near-global scale using radar interferometry. The SRTMGL1 contains elevation data in 1° X 1° tiles at 1 arc second (about 30 meters) resolution.\n",
    "\n",
    "During this delivery, SRTMGL1 data product was made available in **Cloud-Optimized GeoTiff (COG)** format so that it can be dynammically visualizaed on a MAAP alongside the previoously published COGs of UAVSAR and LVIS."
   ]
  },
  {
   "cell_type": "markdown",
   "metadata": {},
   "source": [
    "## SRTM Visualization"
   ]
  },
  {
   "cell_type": "code",
   "execution_count": null,
   "metadata": {},
   "outputs": [],
   "source": [
    "results = maap.searchGranule(short_name=\"SRTMGL1_COD\", bounding_box=\"7.27,-5.24,17.00,3.48\")\n",
    "for r in results:\n",
    "    granule_ur = r['Granule']['GranuleUR']\n",
    "    w.load_layer_config(f\"https://api.maap-project.org/api/wmts/GetCapabilities?granule_ur={granule_ur}\", \"wmts/xml\")"
   ]
  },
  {
   "cell_type": "markdown",
   "metadata": {},
   "source": [
    "## Querying UAVSAR AfriSAR using WCS\n",
    "\n",
    "Let's send a request to the EDAV WCS and extract a subset of the data in GeoTiff format and save it to our workspace."
   ]
  },
  {
   "cell_type": "code",
   "execution_count": null,
   "metadata": {},
   "outputs": [],
   "source": [
    "c = maap.searchCollection(short_name=\"AfriSAR_UAVSAR_Coreg_SLC\")[0]\n",
    "c['Collection']['Description']"
   ]
  },
  {
   "cell_type": "code",
   "execution_count": null,
   "metadata": {},
   "outputs": [],
   "source": [
    "# Configure the WCS source\n",
    "EDAV_WCS_Base = \"https://edav-wcs.adamplatform.eu/wcs\"\n",
    "wcs = WebCoverageService(f'{EDAV_WCS_Base}?service=WCS', version='2.0.0')\n",
    "\n",
    "# Request the data from WCS\n",
    "response = wcs.getCoverage(\n",
    "    identifier=['uavsar_AfriSAR_v1_SLC'],\n",
    "    format='image/tiff',\n",
    "    filter='false',\n",
    "    scale=1,\n",
    "    subsets=[('Long',11.6,11.7),('Lat',-0.2,-0.1)]\n",
    ")\n",
    "\n",
    "# Save the results to file as a tif\n",
    "results = \"EDAV_example.tif\"\n",
    "with open(results, 'wb') as file:\n",
    "    file.write(response.read())"
   ]
  },
  {
   "cell_type": "markdown",
   "metadata": {},
   "source": [
    "Do a quick check that the data is valid, and contains spatial metadata. For fun we can check if it's a Cloud Optimized Geotiff."
   ]
  },
  {
   "cell_type": "code",
   "execution_count": null,
   "metadata": {},
   "outputs": [],
   "source": [
    "!gdalinfo {results}\n",
    "!rio cogeo validate {results}"
   ]
  },
  {
   "cell_type": "markdown",
   "metadata": {},
   "source": [
    "### Read the data and do some quick visual exploration."
   ]
  },
  {
   "cell_type": "code",
   "execution_count": null,
   "metadata": {},
   "outputs": [],
   "source": [
    "edav_x = rioxarray.open_rasterio(results)\n",
    "edav_x.plot(cmap=\"gist_earth\", figsize=(10, 8)).set_clim(0, 0.4)"
   ]
  },
  {
   "cell_type": "markdown",
   "metadata": {},
   "source": [
    "# Handling Large Amounts of (Point Cloud) Data (Continued)\n",
    "\n",
    "## ATL08 v003 Entwine Point Tiles (EPT)\n",
    "\n",
    "During V1D2, the data team made the ATL08 IceSAT-2 Dataset available in [Entwine Point Tile (EPT)](https://entwine.io/entwine-point-tile.html) format.\n",
    "\n",
    "You can find additional documentation for the variables stored in the MAAP ATL08 data store on [the documentation site: Querying ATL08 Entwine Point Tiles](https://maap-project.readthedocs.io/en/latest/query/testing-ept-stores.html).\n",
    "\n",
    "### What are Entwine Point Tiles?\n",
    "\n",
    "Entwine Point Tiles are a cloud-optimized octree data format for storing and visualizing massive point clouds efficiently. This format is gaining a lot of momentum and interest with an active development community.\n"
   ]
  },
  {
   "cell_type": "markdown",
   "metadata": {},
   "source": [
    "### Visualizing with potree\n",
    "\n",
    "Potree is a tool for visualizing EPT stores directly.\n",
    "\n",
    "https://potree.entwine.io/data/view.html?r=%22https://cumulus-map-internal.s3.amazonaws.com/file-staging/nasa-map/ATL08_ARD-beta___001/global/ept%22"
   ]
  },
  {
   "cell_type": "code",
   "execution_count": null,
   "metadata": {},
   "outputs": [],
   "source": [
    "img_src = \"images/Oct-28-2020 16-41-44.gif\"\n",
    "Image(url = img_src)"
   ]
  },
  {
   "cell_type": "code",
   "execution_count": null,
   "metadata": {},
   "outputs": [],
   "source": []
  },
  {
   "cell_type": "markdown",
   "metadata": {},
   "source": [
    "### Visualizing with the 3D Tiles Service (OGC)\n",
    "\n",
    "Cesium is a 3D tool which can be used to visualize point clouds alongside 2D data using a 3D Tiles Service.\n",
    "\n",
    "* [3D Tiles API Endpoint](https://api.maap.xyz/api/3d-tiles/ATL08_ARD-beta___001/global/ept/ept-tileset/tileset.json)\n",
    "* [Demo using Cesium](http://cesium.entwine.io/?url=https://api.maap.xyz/api/3d-tiles/ATL08_ARD-beta___001/global/ept/ept-tileset/tileset.json)"
   ]
  },
  {
   "cell_type": "code",
   "execution_count": null,
   "metadata": {},
   "outputs": [],
   "source": [
    "img_src = \"images/Oct-28-2020 16-53-01.gif\"\n",
    "Image(url = img_src)"
   ]
  },
  {
   "cell_type": "markdown",
   "metadata": {},
   "source": [
    "### Visualizing with ipyCMC"
   ]
  },
  {
   "cell_type": "code",
   "execution_count": null,
   "metadata": {},
   "outputs": [],
   "source": [
    "w.load_layer_config(\"https://cmr.maap-project.org/search/concepts/G1200354094-NASA_MAAP.json\", \"json\", {\"handleAs\": \"vector-3d-tile\"})"
   ]
  },
  {
   "cell_type": "markdown",
   "metadata": {},
   "source": [
    "## Querying ATL08 EPT using the Features API\n",
    "\n",
    "We can use the Features Service for some basic querying of the EPT Store.\n",
    "\n",
    "> OGC API Features provides API building blocks to create, modify and query features on the Web.\n",
    "\n",
    "[Documentation: OGC API - Features](https://www.ogc.org/standards/ogcapi-features)\n",
    "\n",
    "### Query By Bounding Box\n",
    "\n",
    "Using EPT and the features service delivers a response **100x faster** over the conventional way of subsetting this data (search, download, read and subset data). See the test in [subset-atl08-files.ipynb](subset-atl08-files.ipynb)."
   ]
  },
  {
   "cell_type": "code",
   "execution_count": 2,
   "metadata": {},
   "outputs": [
    {
     "name": "stdout",
     "output_type": "stream",
     "text": [
      "CPU times: user 147 ms, sys: 5.44 ms, total: 153 ms\n",
      "Wall time: 5.55 s\n"
     ]
    },
    {
     "data": {
      "text/html": [
       "<div>\n",
       "<style scoped>\n",
       "    .dataframe tbody tr th:only-of-type {\n",
       "        vertical-align: middle;\n",
       "    }\n",
       "\n",
       "    .dataframe tbody tr th {\n",
       "        vertical-align: top;\n",
       "    }\n",
       "\n",
       "    .dataframe thead th {\n",
       "        text-align: right;\n",
       "    }\n",
       "</style>\n",
       "<table border=\"1\" class=\"dataframe\">\n",
       "  <thead>\n",
       "    <tr style=\"text-align: right;\">\n",
       "      <th></th>\n",
       "      <th>geometry</th>\n",
       "      <th>X</th>\n",
       "      <th>Y</th>\n",
       "      <th>Z</th>\n",
       "      <th>Intensity</th>\n",
       "      <th>ReturnNumber</th>\n",
       "      <th>NumberOfReturns</th>\n",
       "      <th>ScanDirectionFlag</th>\n",
       "      <th>EdgeOfFlightLine</th>\n",
       "      <th>Classification</th>\n",
       "      <th>...</th>\n",
       "      <th>GpsTime</th>\n",
       "      <th>Red</th>\n",
       "      <th>Green</th>\n",
       "      <th>Blue</th>\n",
       "      <th>ScanChannel</th>\n",
       "      <th>ClassFlags</th>\n",
       "      <th>ElevationLow</th>\n",
       "      <th>HeightAboveGround</th>\n",
       "      <th>OffsetTime</th>\n",
       "      <th>OriginId</th>\n",
       "    </tr>\n",
       "  </thead>\n",
       "  <tbody>\n",
       "    <tr>\n",
       "      <th>0</th>\n",
       "      <td>POINT Z (-75.58000 -8.80000 310.06000)</td>\n",
       "      <td>-75.58</td>\n",
       "      <td>-8.80</td>\n",
       "      <td>310.06</td>\n",
       "      <td>0.0</td>\n",
       "      <td>1.0</td>\n",
       "      <td>1.0</td>\n",
       "      <td>0.0</td>\n",
       "      <td>0.0</td>\n",
       "      <td>0.0</td>\n",
       "      <td>...</td>\n",
       "      <td>1.240313e+09</td>\n",
       "      <td>10.0</td>\n",
       "      <td>95.0</td>\n",
       "      <td>101.0</td>\n",
       "      <td>0.0</td>\n",
       "      <td>0.0</td>\n",
       "      <td>289.127</td>\n",
       "      <td>42.708</td>\n",
       "      <td>41512918.0</td>\n",
       "      <td>29028.0</td>\n",
       "    </tr>\n",
       "    <tr>\n",
       "      <th>1</th>\n",
       "      <td>POINT Z (-74.17000 -11.57000 471.59000)</td>\n",
       "      <td>-74.17</td>\n",
       "      <td>-11.57</td>\n",
       "      <td>471.59</td>\n",
       "      <td>0.0</td>\n",
       "      <td>1.0</td>\n",
       "      <td>1.0</td>\n",
       "      <td>0.0</td>\n",
       "      <td>0.0</td>\n",
       "      <td>0.0</td>\n",
       "      <td>...</td>\n",
       "      <td>1.245357e+09</td>\n",
       "      <td>27.0</td>\n",
       "      <td>107.0</td>\n",
       "      <td>111.0</td>\n",
       "      <td>0.0</td>\n",
       "      <td>0.0</td>\n",
       "      <td>488.210</td>\n",
       "      <td>25.316</td>\n",
       "      <td>46556779.0</td>\n",
       "      <td>37945.0</td>\n",
       "    </tr>\n",
       "    <tr>\n",
       "      <th>2</th>\n",
       "      <td>POINT Z (-73.48000 -10.88000 329.13000)</td>\n",
       "      <td>-73.48</td>\n",
       "      <td>-10.88</td>\n",
       "      <td>329.13</td>\n",
       "      <td>0.0</td>\n",
       "      <td>1.0</td>\n",
       "      <td>1.0</td>\n",
       "      <td>0.0</td>\n",
       "      <td>0.0</td>\n",
       "      <td>0.0</td>\n",
       "      <td>...</td>\n",
       "      <td>1.258205e+09</td>\n",
       "      <td>25.0</td>\n",
       "      <td>106.0</td>\n",
       "      <td>110.0</td>\n",
       "      <td>0.0</td>\n",
       "      <td>0.0</td>\n",
       "      <td>314.425</td>\n",
       "      <td>35.354</td>\n",
       "      <td>59404688.0</td>\n",
       "      <td>58028.0</td>\n",
       "    </tr>\n",
       "    <tr>\n",
       "      <th>3</th>\n",
       "      <td>POINT Z (-74.16000 -10.18000 304.93000)</td>\n",
       "      <td>-74.16</td>\n",
       "      <td>-10.18</td>\n",
       "      <td>304.93</td>\n",
       "      <td>0.0</td>\n",
       "      <td>1.0</td>\n",
       "      <td>1.0</td>\n",
       "      <td>0.0</td>\n",
       "      <td>0.0</td>\n",
       "      <td>0.0</td>\n",
       "      <td>...</td>\n",
       "      <td>1.258550e+09</td>\n",
       "      <td>12.0</td>\n",
       "      <td>96.0</td>\n",
       "      <td>101.0</td>\n",
       "      <td>0.0</td>\n",
       "      <td>0.0</td>\n",
       "      <td>302.224</td>\n",
       "      <td>20.358</td>\n",
       "      <td>59749777.0</td>\n",
       "      <td>58629.0</td>\n",
       "    </tr>\n",
       "    <tr>\n",
       "      <th>4</th>\n",
       "      <td>POINT Z (-73.51000 -9.49000 319.50000)</td>\n",
       "      <td>-73.51</td>\n",
       "      <td>-9.49</td>\n",
       "      <td>319.50</td>\n",
       "      <td>0.0</td>\n",
       "      <td>1.0</td>\n",
       "      <td>1.0</td>\n",
       "      <td>0.0</td>\n",
       "      <td>0.0</td>\n",
       "      <td>0.0</td>\n",
       "      <td>...</td>\n",
       "      <td>1.266051e+09</td>\n",
       "      <td>17.0</td>\n",
       "      <td>100.0</td>\n",
       "      <td>105.0</td>\n",
       "      <td>0.0</td>\n",
       "      <td>0.0</td>\n",
       "      <td>296.021</td>\n",
       "      <td>27.648</td>\n",
       "      <td>67251450.0</td>\n",
       "      <td>71742.0</td>\n",
       "    </tr>\n",
       "  </tbody>\n",
       "</table>\n",
       "<p>5 rows × 23 columns</p>\n",
       "</div>"
      ],
      "text/plain": [
       "                                  geometry      X      Y       Z  Intensity  \\\n",
       "0   POINT Z (-75.58000 -8.80000 310.06000) -75.58  -8.80  310.06        0.0   \n",
       "1  POINT Z (-74.17000 -11.57000 471.59000) -74.17 -11.57  471.59        0.0   \n",
       "2  POINT Z (-73.48000 -10.88000 329.13000) -73.48 -10.88  329.13        0.0   \n",
       "3  POINT Z (-74.16000 -10.18000 304.93000) -74.16 -10.18  304.93        0.0   \n",
       "4   POINT Z (-73.51000 -9.49000 319.50000) -73.51  -9.49  319.50        0.0   \n",
       "\n",
       "   ReturnNumber  NumberOfReturns  ScanDirectionFlag  EdgeOfFlightLine  \\\n",
       "0           1.0              1.0                0.0               0.0   \n",
       "1           1.0              1.0                0.0               0.0   \n",
       "2           1.0              1.0                0.0               0.0   \n",
       "3           1.0              1.0                0.0               0.0   \n",
       "4           1.0              1.0                0.0               0.0   \n",
       "\n",
       "   Classification  ...       GpsTime   Red  Green   Blue  ScanChannel  \\\n",
       "0             0.0  ...  1.240313e+09  10.0   95.0  101.0          0.0   \n",
       "1             0.0  ...  1.245357e+09  27.0  107.0  111.0          0.0   \n",
       "2             0.0  ...  1.258205e+09  25.0  106.0  110.0          0.0   \n",
       "3             0.0  ...  1.258550e+09  12.0   96.0  101.0          0.0   \n",
       "4             0.0  ...  1.266051e+09  17.0  100.0  105.0          0.0   \n",
       "\n",
       "   ClassFlags  ElevationLow  HeightAboveGround  OffsetTime  OriginId  \n",
       "0         0.0       289.127             42.708  41512918.0   29028.0  \n",
       "1         0.0       488.210             25.316  46556779.0   37945.0  \n",
       "2         0.0       314.425             35.354  59404688.0   58028.0  \n",
       "3         0.0       302.224             20.358  59749777.0   58629.0  \n",
       "4         0.0       296.021             27.648  67251450.0   71742.0  \n",
       "\n",
       "[5 rows x 23 columns]"
      ]
     },
     "execution_count": 2,
     "metadata": {},
     "output_type": "execute_result"
    }
   ],
   "source": [
    "%%time\n",
    "# Format a request to the API\n",
    "api_url = \"https://obnrh8ozt0.execute-api.us-east-2.amazonaws.com/collections/Global/items\"\n",
    "\n",
    "# Make a request for a bounding box over Peru\n",
    "bbox=\"-77,-26,300,-73,0,500\"\n",
    "limit = 1000\n",
    "payload = {\n",
    "    \"f\": \"json\",\n",
    "    \"limit\": limit,\n",
    "    \"bbox\": bbox\n",
    "}\n",
    "\n",
    "r = requests.get(api_url, params = payload)\n",
    "# Get the results directly into a Geo Data Frame (saving to file not required but recommended)\n",
    "api_geojson = r.json()\n",
    "api_geojson.keys()\n",
    "adf = gpd.GeoDataFrame.from_features(api_geojson[\"features\"], crs='epsg:4326')\n",
    "adf.shape\n",
    "adf.head()"
   ]
  },
  {
   "cell_type": "code",
   "execution_count": null,
   "metadata": {},
   "outputs": [],
   "source": [
    "m = folium.Map(\n",
    "    location=[adf.centroid[0].y, adf.centroid[0].x],\n",
    "    zoom_start=10,\n",
    "    tiles='Stamen Terrain'\n",
    ")\n",
    "\n",
    "\n",
    "folium.GeoJson(\n",
    "    adf,\n",
    "    name = \"geojson\"\n",
    ").add_to(m)\n",
    "\n",
    "m"
   ]
  },
  {
   "cell_type": "markdown",
   "metadata": {},
   "source": [
    "### Query by Granule Id\n",
    "\n",
    "The UWG requested being able to query by granule id."
   ]
  },
  {
   "cell_type": "code",
   "execution_count": null,
   "metadata": {},
   "outputs": [],
   "source": [
    "granule_id = 'ATL08_20181014035224_02370107_003_01'\n",
    "payload = {\n",
    "    \"f\": \"json\",\n",
    "    \"origin\": granule_id,\n",
    "}\n",
    "\n",
    "r = requests.get(api_url, params = payload)\n",
    "api_geojson = r.json()\n",
    "api_geojson.keys()\n",
    "adf = gpd.GeoDataFrame.from_features(api_geojson[\"features\"], crs='epsg:4326')\n",
    "adf.head()"
   ]
  },
  {
   "cell_type": "markdown",
   "metadata": {},
   "source": [
    "## More query options with pdal\n",
    "\n",
    "The [documentation](https://maap-project.readthedocs.io/en/latest/query/testing-ept-stores.html#PDAL-Pipelines) provides additional options for how to query with PDAL (Point Cloud Data Abstraction Library)."
   ]
  },
  {
   "cell_type": "markdown",
   "metadata": {},
   "source": [
    "# Thank You!\n",
    "\n",
    "**Big thanks to the ESA, JPL and MSFC dev teams.**\n",
    "\n",
    "Aaron Kaulfus, Alex Mandel, Brian Satorius, Chuck Daniels, David Bitner, George Chang, Hai, Kaylin Bugbee, Maya DeBellis, Slesa Adhikari, Sam Ayers and Seth Vincent with whom none of this would be possible.\n",
    "\n",
    "And thank you to the project scientists and user working group for providing such actionable feedback!"
   ]
  }
 ],
 "metadata": {
  "kernelspec": {
   "display_name": "Python 3",
   "language": "python",
   "name": "python3"
  },
  "language_info": {
   "codemirror_mode": {
    "name": "ipython",
    "version": 3
   },
   "file_extension": ".py",
   "mimetype": "text/x-python",
   "name": "python",
   "nbconvert_exporter": "python",
   "pygments_lexer": "ipython3",
   "version": "3.7.8"
  }
 },
 "nbformat": 4,
 "nbformat_minor": 4
}
